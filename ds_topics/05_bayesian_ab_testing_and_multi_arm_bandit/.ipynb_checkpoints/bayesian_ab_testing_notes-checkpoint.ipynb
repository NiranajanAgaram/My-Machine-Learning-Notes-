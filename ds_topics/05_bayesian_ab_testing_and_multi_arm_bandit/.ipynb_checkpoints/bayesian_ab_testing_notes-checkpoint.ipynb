{
 "cells": [
  {
   "cell_type": "markdown",
   "metadata": {},
   "source": [
    "Bayesian A/B Testing (Conjugate Priors)\n",
    "\n",
    "* Objectives:\n",
    "    * Frequentist vs Bayesian\n",
    "    * Bayes' Theorem\n",
    "    * Likelihood\n",
    "    * Posterior\n",
    "    * Conjugate Prior"
   ]
  },
  {
   "cell_type": "markdown",
   "metadata": {},
   "source": [
    "1) Frequentist vs Bayesian\n",
    "* Frequentist (Hypothesis Testing) Steps:\n",
    "    1. Define a Metric - declare null and alternative hypothesis\n",
    "    2. Set Parameters - significance, number of observations, etc.\n",
    "    3. Run Experiment - follow the experiment rigidly\n",
    "    4. Compute Test Statistic - check that it is the appropriate one \n",
    "    5. Calculate p-value\n",
    "    6. Draw Conclusions - reject $H_0$ in favor of $H_A$, or fail to reject $H_0$\n",
    "* Frequentist A/B Testing **Limitations**:\n",
    "    * (-) If one the pages your testing appears to be obviously better, can you scrap the experiment and declare it the winner?\n",
    "    * (-) At the end of an experiment, can you quantify how much better the winning page is than the loosing pages?\n",
    "        * Example: \"It's 95% likely that page A is better than page B\"\n",
    "    * (-) If, after you've begin your test, your boss comes to you with another version of the page and asks you to test it too, can you update the test?\n",
    "* Bayesian Steps:\n",
    "    1. Define a Metric - to quantify what \"better\" means\n",
    "    2. Run Test - collect data\n",
    "    3. Continually Monitor Results - can decide to stop at any time\n",
    "    4. Suggest Next Step - based on probabilities calculated"
   ]
  },
  {
   "cell_type": "markdown",
   "metadata": {},
   "source": [
    "2) Bayesian A/B Testing\n",
    "* **Bayes' Theorem** - captures the essence of Bayesian modeling where the uncertainty about some unknown parameter can be quantified\n",
    "    * Bayes' Equation: $$P(\\theta\\mid y)=\\frac{P(y\\mid\\theta)P(\\theta)}{P(y)}$$\n",
    "        * $P(y\\mid\\theta)$ - Likelihood\n",
    "        * $P(\\theta)$ - Prior\n",
    "        * $P(y)$ - Normalizing Constant\n",
    "        * $P(y)=\\int P(y,\\theta)d\\theta$\n",
    "    * Bayes' Theorem Distilled: $$Posterior \\propto Likelihood \\times Prior$$\n",
    "        * Try associating \"likelihood\" and \"posterior\" for click-through rate example\n",
    "    * Application of Bayes' Theorem to A/B Testing:\n",
    "        * Trying to determine which of options A & B is \"better\"\n",
    "        * Example: trying to determine which page layout has a higher click-through rate\n",
    "* **Likelihood** - distribution for the data (as a function of the parameter)\n",
    "    * Click-through Rate Example: What are the possible outcomes for each observation in our data for a single page?\n",
    "        * Answer: A click-through occurs or not (binary result)\n",
    "        * How are our data distributed? (a.k.a. what is the **likelihood**?) \n",
    "            * Binomial distribution ($k$ successes in $n$ trials): $$P(X=k)=\\big(_k^n\\big)p^k(1-p)^{n-k}$$\n",
    "* **Posterior** - updated knowledge about $\\theta$ after seeing the data\n",
    "    * Click-through Rate Example: With respect to the data from a single page, what are the possible values that a click-through rate can take on?\n",
    "        * Answer: Any real value in the open interval [0,1]\n",
    "        * What distribution should we use to model this click-through rate parameter? (a.k.a. what is the **posterior**?)\n",
    "            * Beta distribution (support over the continuous interval [0,1]): $$X\\text{ ~ }Beta(\\alpha,\\beta) = \\frac{1}{Beta(\\alpha,\\beta)}x^{\\alpha-1}(1-x)^{\\beta-1}$$\n",
    "            ![beta_dist](beta_dist.png)\n",
    "            * $E[X]=\\frac{\\alpha}{\\alpha+\\beta}$\n",
    "            * $\\text{Mode}=\\frac{\\alpha-1}{\\alpha+\\beta-2}$\n",
    "* Combining Likelihood & Posterior Distributions Together:\n",
    "    * The two distributions from above:\n",
    "        * Likelihood: $\\big(_k^n\\big)p^k(1-p)^{n-k}$\n",
    "        * Posterior: $\\frac{1}{Beta(\\alpha,\\beta)}x^{\\alpha-1}(1-x)^{\\beta-1}$\n",
    "    * The two distributions have the **same** form!\n",
    "* **Prior** - a distribution that encodes our beliefs about the possible values that the parameter in question, $\\theta$, can take on before we collect any data\n",
    "    * Click-through Rate Example: How do we choose our prior, since technically, the only requirement is that it is a distribution, a.k.a. $\\int P(\\theta)=1$?\n",
    "    * More specific to our current situation though, we might ask the question, what distribution would we like to use to encode our prior beliefs about $\\theta$?\n",
    "    * Functional form of likelihood and posterior known: $$Posterior \\propto Likelihood \\times Prior$$ $$Beta \\propto Binomial \\times Prior$$ $$p^{\\alpha-1}(1-p)^{\\beta-1} \\propto p^k(1-p)^{n-k} \\times Prior$$\n",
    "    * In this case, the obvious distribution we should choose to encode our prior beliefs about $P(\\theta)$ is the $Beta$ distribution: $$Posterior \\propto Likelihood \\times Prior$$ $$Posterior \\propto Binomial \\times Beta$$ $$Posterior \\propto p^k(1-p)^{n-k} \\times p^{\\alpha-1}(1-p)^{\\beta-1}$$ $$Posterior \\propto p^{k+\\alpha-1}(1-p)^{n-k+\\beta-1}$$\n",
    "        * **Beta Conjugate Prior** - $p^{k+\\alpha-1}(1-p)^{n-k+\\beta-1}$\n",
    "        * Parameters of this distribution: $$\\alpha_1=k+\\alpha$$ $$\\beta_1=n-k+\\beta$$ $$Posterior \\text{ ~ } Beta(k+\\alpha,n-k+\\beta)$$\n",
    "        * Now, take the number of conversions, $k$, and the total number of views, $n$, for each of our pages and plug them into our posterior distribution\n",
    "    * The values $\\alpha$ and $\\beta$ are the parameters for the $Beta$ distribution that are cleverly chosen to describe prior beliefs\n",
    "        * $\\alpha$ and $\\beta$ values encode our prior beliefs about the values that $\\theta$ could possibly take on\n",
    "        * From the Beta distribution, there are several ways to choose $\\alpha$ and $\\beta$:\n",
    "            * Choose an uninformative prior: $\\alpha=1$ and $\\beta=1$\n",
    "            * Act like you have observed some data before that represents data your experiment has to overcome\n",
    "* Simulating Bayesian A/B Testing:\n",
    "    ```python\n",
    "    from numpy.random import beta\n",
    "\n",
    "    num_samples = 10000\n",
    "    alpha = beta = 1\n",
    "    site_a_simulation = beta(num_conv_a + alpha, num_views_a - num_conv_a + beta, size=num_samples)\n",
    "    site_b_simulation = beta(num_conv_b + alpha, num_views_b - num_conv_b + beta, size=num_samples)\n",
    "    ```\n",
    "    * What's the probability that site A has a higher conversion rate than site B?\n",
    "    ```python\n",
    "    np.mean(site_a_simulation > site_b_simulation)\n",
    "    ```\n",
    "    * What's the probability that site A has a 5% higher conversion rate than site B?\n",
    "    ```python\n",
    "    np.mean(site_a_simulation > (site_b_simulation + 0.05))\n",
    "    ```\n",
    "    * Visualizing the simulation:\n",
    "    ![site_a_vs_b](site_a_vs_b.png)"
   ]
  },
  {
   "cell_type": "code",
   "execution_count": null,
   "metadata": {
    "collapsed": true
   },
   "outputs": [],
   "source": []
  }
 ],
 "metadata": {
  "anaconda-cloud": {},
  "kernelspec": {
   "display_name": "Python [Root]",
   "language": "python",
   "name": "Python [Root]"
  },
  "language_info": {
   "codemirror_mode": {
    "name": "ipython",
    "version": 2
   },
   "file_extension": ".py",
   "mimetype": "text/x-python",
   "name": "python",
   "nbconvert_exporter": "python",
   "pygments_lexer": "ipython2",
   "version": "2.7.13"
  }
 },
 "nbformat": 4,
 "nbformat_minor": 0
}
