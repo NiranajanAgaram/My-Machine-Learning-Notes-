{
 "cells": [
  {
   "cell_type": "code",
   "execution_count": 1,
   "metadata": {
    "collapsed": true
   },
   "outputs": [],
   "source": [
    "# classify Reuters newswires into 46 mutually exclusive topics via multiclass classification\n",
    "# each data point should be classified into only one category, the problem is more specifically: single-label, multiclass classification\n",
    "# if each data point could belong to multiple categories: multi-label, multiclass classification"
   ]
  },
  {
   "cell_type": "code",
   "execution_count": 2,
   "metadata": {
    "collapsed": false
   },
   "outputs": [
    {
     "name": "stderr",
     "output_type": "stream",
     "text": [
      "/Users/timhou/anaconda2/lib/python2.7/site-packages/h5py/__init__.py:36: FutureWarning: Conversion of the second argument of issubdtype from `float` to `np.floating` is deprecated. In future, it will be treated as `np.float64 == np.dtype(float).type`.\n",
      "  from ._conv import register_converters as _register_converters\n",
      "Using Theano backend.\n",
      "Using cuDNN version 5110 on context None\n",
      "Mapped name None to device cuda: GeForce GT 750M (0000:01:00.0)\n"
     ]
    }
   ],
   "source": [
    "# Reuters dataset - a set of short newswires and their topics published in 1986\n",
    "# there are 46 different topics; some topics are more represented than others, but each topic has at least 10 examples in the training set\n",
    "from keras.datasets import reuters\n",
    "\n",
    "(train_data, train_labels), (test_data, test_labels) = reuters.load_data(num_words=10000)"
   ]
  },
  {
   "cell_type": "code",
   "execution_count": 3,
   "metadata": {
    "collapsed": false
   },
   "outputs": [
    {
     "data": {
      "text/plain": [
       "8982"
      ]
     },
     "execution_count": 3,
     "metadata": {},
     "output_type": "execute_result"
    }
   ],
   "source": [
    "# 8982 training examples\n",
    "len(train_data)"
   ]
  },
  {
   "cell_type": "code",
   "execution_count": 4,
   "metadata": {
    "collapsed": false
   },
   "outputs": [
    {
     "data": {
      "text/plain": [
       "2246"
      ]
     },
     "execution_count": 4,
     "metadata": {},
     "output_type": "execute_result"
    }
   ],
   "source": [
    "# 2246 test examples\n",
    "len(test_data)"
   ]
  },
  {
   "cell_type": "code",
   "execution_count": 5,
   "metadata": {
    "collapsed": false,
    "scrolled": true
   },
   "outputs": [
    {
     "data": {
      "text/plain": [
       "[1,\n",
       " 245,\n",
       " 273,\n",
       " 207,\n",
       " 156,\n",
       " 53,\n",
       " 74,\n",
       " 160,\n",
       " 26,\n",
       " 14,\n",
       " 46,\n",
       " 296,\n",
       " 26,\n",
       " 39,\n",
       " 74,\n",
       " 2979,\n",
       " 3554,\n",
       " 14,\n",
       " 46,\n",
       " 4689,\n",
       " 4329,\n",
       " 86,\n",
       " 61,\n",
       " 3499,\n",
       " 4795,\n",
       " 14,\n",
       " 61,\n",
       " 451,\n",
       " 4329,\n",
       " 17,\n",
       " 12]"
      ]
     },
     "execution_count": 5,
     "metadata": {},
     "output_type": "execute_result"
    }
   ],
   "source": [
    "# each example is a list of integers (word indices)\n",
    "train_data[10]"
   ]
  },
  {
   "cell_type": "code",
   "execution_count": 6,
   "metadata": {
    "collapsed": false
   },
   "outputs": [
    {
     "data": {
      "text/plain": [
       "u'? ? ? said as a result of its december acquisition of space co it expects earnings per share in 1987 of 1 15 to 1 30 dlrs per share up from 70 cts in 1986 the company said pretax net should rise to nine to 10 mln dlrs from six mln dlrs in 1986 and rental operation revenues to 19 to 22 mln dlrs from 12 5 mln dlrs it said cash flow per share this year should be 2 50 to three dlrs reuter 3'"
      ]
     },
     "execution_count": 6,
     "metadata": {},
     "output_type": "execute_result"
    }
   ],
   "source": [
    "# decode newswires back to text\n",
    "word_index = reuters.get_word_index()\n",
    "reverse_word_index = dict([(v, k) for (k, v) in word_index.items()])\n",
    "decoded_newswire = ' '.join([reverse_word_index.get(i-3, \"?\") for i in train_data[0]])\n",
    "decoded_newswire"
   ]
  },
  {
   "cell_type": "code",
   "execution_count": 7,
   "metadata": {
    "collapsed": false
   },
   "outputs": [
    {
     "data": {
      "text/plain": [
       "3"
      ]
     },
     "execution_count": 7,
     "metadata": {},
     "output_type": "execute_result"
    }
   ],
   "source": [
    "# label associated with an example is an integer between 0 and 45\n",
    "train_labels[0]"
   ]
  },
  {
   "cell_type": "code",
   "execution_count": 8,
   "metadata": {
    "collapsed": false
   },
   "outputs": [
    {
     "data": {
      "text/plain": [
       "array([0., 1., 1., ..., 0., 0., 0.])"
      ]
     },
     "execution_count": 8,
     "metadata": {},
     "output_type": "execute_result"
    }
   ],
   "source": [
    "# vectorize data\n",
    "import numpy as np\n",
    "\n",
    "def vectorize_sequences(sequences, dimension=10000):\n",
    "    results = np.zeros((len(sequences), dimension))\n",
    "    for i, sequence in enumerate(sequences):\n",
    "        results[i, sequence] = 1.\n",
    "    return results\n",
    "\n",
    "x_train = vectorize_sequences(train_data)\n",
    "x_test = vectorize_sequences(test_data)\n",
    "x_train[0]"
   ]
  },
  {
   "cell_type": "code",
   "execution_count": 9,
   "metadata": {
    "collapsed": false
   },
   "outputs": [
    {
     "data": {
      "text/plain": [
       "array([0., 0., 0., 1., 0., 0., 0., 0., 0., 0., 0., 0., 0., 0., 0., 0., 0.,\n",
       "       0., 0., 0., 0., 0., 0., 0., 0., 0., 0., 0., 0., 0., 0., 0., 0., 0.,\n",
       "       0., 0., 0., 0., 0., 0., 0., 0., 0., 0., 0., 0.])"
      ]
     },
     "execution_count": 9,
     "metadata": {},
     "output_type": "execute_result"
    }
   ],
   "source": [
    "# vectorize label: one-hot encoding (categorical encoding)\n",
    "# other option: label list as an integer tensor\n",
    "def to_one_hot(labels, dimension=46):\n",
    "    results = np.zeros((len(labels), dimension))\n",
    "    for i, label in enumerate(labels):\n",
    "        results[i, label] = 1\n",
    "    return results\n",
    "\n",
    "one_hot_train_labels = to_one_hot(train_labels)\n",
    "one_hot_test_labels = to_one_hot(test_labels)\n",
    "one_hot_train_labels[0]"
   ]
  },
  {
   "cell_type": "code",
   "execution_count": 10,
   "metadata": {
    "collapsed": false
   },
   "outputs": [
    {
     "data": {
      "text/plain": [
       "array([0., 0., 0., 1., 0., 0., 0., 0., 0., 0., 0., 0., 0., 0., 0., 0., 0.,\n",
       "       0., 0., 0., 0., 0., 0., 0., 0., 0., 0., 0., 0., 0., 0., 0., 0., 0.,\n",
       "       0., 0., 0., 0., 0., 0., 0., 0., 0., 0., 0., 0.])"
      ]
     },
     "execution_count": 10,
     "metadata": {},
     "output_type": "execute_result"
    }
   ],
   "source": [
    "# built-in one-hot encoding\n",
    "from keras.utils.np_utils import to_categorical\n",
    "\n",
    "one_hot_train_labels = to_categorical(train_labels)\n",
    "one_hot_test_labels = to_categorical(test_labels)\n",
    "one_hot_train_labels[0]"
   ]
  },
  {
   "cell_type": "code",
   "execution_count": 11,
   "metadata": {
    "collapsed": true
   },
   "outputs": [],
   "source": [
    "# now the dimensionality of the output space is much larger (2 -> 46 num of output classes)\n",
    "# previously, we were using 16-dimensional intermediate layers, but that might be too limited to learn to separate 46 different classes: such small layers may act as information bottlenecks, permanently dropping relevant information\n",
    "# if one layer drops some information relevant to the classification problem, this information can never be recovered by later layers\n",
    "from keras import models\n",
    "from keras import layers\n",
    "\n",
    "model = models.Sequential()\n",
    "model.add(layers.Dense(64, activation='relu', input_shape=(10000,)))\n",
    "model.add(layers.Dense(64, activation='relu'))\n",
    "model.add(layers.Dense(46, activation='softmax'))"
   ]
  },
  {
   "cell_type": "code",
   "execution_count": 12,
   "metadata": {
    "collapsed": true
   },
   "outputs": [],
   "source": [
    "# end the dense layer with size 46 which results in each input sample outputted to a 46-dimensional vector (each entry in this vector will encode a different output class)\n",
    "# last layer uses a softmax activation yielding a probability distribution output over 46 different output classes (where output[i] is the probability that the sample belongs to class i)\n",
    "# the 46 scores will sum to 1\n",
    "# best loss function for this case: categorical_crossentropy\n",
    "# categorical crossentropy - measures the distance between two probability distributions\n",
    "# by minimizing the distance between these two distributions, you train the network to output something as close as possible to the true labels\n",
    "model.compile(optimizer='rmsprop',\n",
    "              loss='categorical_crossentropy',\n",
    "              metrics=['accuracy'])"
   ]
  },
  {
   "cell_type": "code",
   "execution_count": 13,
   "metadata": {
    "collapsed": false
   },
   "outputs": [
    {
     "name": "stdout",
     "output_type": "stream",
     "text": [
      "(1000, 10000)\n",
      "(7982, 10000)\n",
      "12.528188424\n"
     ]
    }
   ],
   "source": [
    "# validating approach by setting apart 1000 samples in the training data as validation set\n",
    "x_val = x_train[:1000]\n",
    "partial_x_train = x_train[1000:]\n",
    "\n",
    "y_val = one_hot_train_labels[:1000]\n",
    "partial_y_train = one_hot_train_labels[1000:]\n",
    "\n",
    "print x_val.shape\n",
    "print partial_x_train.shape\n",
    "print 1000/7982. * 100"
   ]
  },
  {
   "cell_type": "code",
   "execution_count": 14,
   "metadata": {
    "collapsed": false,
    "scrolled": true
   },
   "outputs": [
    {
     "name": "stdout",
     "output_type": "stream",
     "text": [
      "Train on 7982 samples, validate on 1000 samples\n",
      "Epoch 1/20\n",
      "7982/7982 [==============================] - 1s 109us/step - loss: 2.6758 - acc: 0.4853 - val_loss: 1.7627 - val_acc: 0.6110\n",
      "Epoch 2/20\n",
      "7982/7982 [==============================] - 1s 71us/step - loss: 1.4396 - acc: 0.6875 - val_loss: 1.2972 - val_acc: 0.7130\n",
      "Epoch 3/20\n",
      "7982/7982 [==============================] - 1s 73us/step - loss: 1.0537 - acc: 0.7701 - val_loss: 1.1246 - val_acc: 0.7580\n",
      "Epoch 4/20\n",
      "7982/7982 [==============================] - 1s 71us/step - loss: 0.8361 - acc: 0.8236 - val_loss: 1.0219 - val_acc: 0.7720\n",
      "Epoch 5/20\n",
      "7982/7982 [==============================] - 1s 70us/step - loss: 0.6717 - acc: 0.8593 - val_loss: 0.9597 - val_acc: 0.7900\n",
      "Epoch 6/20\n",
      "7982/7982 [==============================] - 1s 68us/step - loss: 0.5423 - acc: 0.8891 - val_loss: 0.9056 - val_acc: 0.8140\n",
      "Epoch 7/20\n",
      "7982/7982 [==============================] - 0s 62us/step - loss: 0.4448 - acc: 0.9089 - val_loss: 0.8866 - val_acc: 0.8070\n",
      "Epoch 8/20\n",
      "7982/7982 [==============================] - 0s 60us/step - loss: 0.3628 - acc: 0.9241 - val_loss: 0.9146 - val_acc: 0.8030\n",
      "Epoch 9/20\n",
      "7982/7982 [==============================] - 0s 62us/step - loss: 0.2999 - acc: 0.9325 - val_loss: 0.8900 - val_acc: 0.8040\n",
      "Epoch 10/20\n",
      "7982/7982 [==============================] - 0s 60us/step - loss: 0.2517 - acc: 0.9429 - val_loss: 0.8993 - val_acc: 0.8060\n",
      "Epoch 11/20\n",
      "7982/7982 [==============================] - 1s 63us/step - loss: 0.2184 - acc: 0.9473 - val_loss: 0.8966 - val_acc: 0.8140\n",
      "Epoch 12/20\n",
      "7982/7982 [==============================] - 0s 62us/step - loss: 0.1872 - acc: 0.9520 - val_loss: 0.8862 - val_acc: 0.8210\n",
      "Epoch 13/20\n",
      "7982/7982 [==============================] - 1s 63us/step - loss: 0.1717 - acc: 0.9524 - val_loss: 0.9194 - val_acc: 0.8010\n",
      "Epoch 14/20\n",
      "7982/7982 [==============================] - 1s 65us/step - loss: 0.1545 - acc: 0.9554 - val_loss: 0.9535 - val_acc: 0.8050\n",
      "Epoch 15/20\n",
      "7982/7982 [==============================] - 1s 72us/step - loss: 0.1404 - acc: 0.9559 - val_loss: 0.9528 - val_acc: 0.8100\n",
      "Epoch 16/20\n",
      "7982/7982 [==============================] - 1s 73us/step - loss: 0.1340 - acc: 0.9553 - val_loss: 1.0222 - val_acc: 0.7990\n",
      "Epoch 17/20\n",
      "7982/7982 [==============================] - 1s 70us/step - loss: 0.1241 - acc: 0.9583 - val_loss: 0.9773 - val_acc: 0.8030\n",
      "Epoch 18/20\n",
      "7982/7982 [==============================] - 1s 73us/step - loss: 0.1218 - acc: 0.9567 - val_loss: 1.0142 - val_acc: 0.8060\n",
      "Epoch 19/20\n",
      "7982/7982 [==============================] - 1s 71us/step - loss: 0.1157 - acc: 0.9587 - val_loss: 1.0637 - val_acc: 0.8010\n",
      "Epoch 20/20\n",
      "7982/7982 [==============================] - 1s 64us/step - loss: 0.1127 - acc: 0.9604 - val_loss: 1.0505 - val_acc: 0.8030\n"
     ]
    }
   ],
   "source": [
    "# train the network for 20 epochs\n",
    "history = model.fit(partial_x_train,\n",
    "                    partial_y_train,\n",
    "                    epochs=20,\n",
    "                    batch_size=512,\n",
    "                    validation_data=(x_val, y_val))"
   ]
  },
  {
   "cell_type": "code",
   "execution_count": 27,
   "metadata": {
    "collapsed": false
   },
   "outputs": [
    {
     "data": {
      "text/plain": [
       "<matplotlib.legend.Legend at 0x1c6159f710>"
      ]
     },
     "execution_count": 27,
     "metadata": {},
     "output_type": "execute_result"
    },
    {
     "data": {
      "image/png": "[encoded data removed]",
      "text/plain": [
       "<matplotlib.figure.Figure at 0x1c612a9690>"
      ]
     },
     "metadata": {},
     "output_type": "display_data"
    }
   ],
   "source": [
    "# plotting the training and validation loss\n",
    "import matplotlib.pyplot as plt\n",
    "%matplotlib inline\n",
    "\n",
    "loss = history.history['loss']\n",
    "val_loss = history.history['val_loss']\n",
    "epochs = range(1, len(loss) + 1)\n",
    "plt.plot(epochs, loss, 'bo', label='Training loss')\n",
    "plt.plot(epochs, val_loss, 'b', label='Validation loss')\n",
    "plt.axvline(9.0, color='k', linestyle='--')\n",
    "# plt.axvline(np.argmin(val_loss), color='k', linestyle='--')\n",
    "\n",
    "plt.title('Training and validation loss')\n",
    "plt.xlabel('Epochs')\n",
    "plt.ylabel('Loss')\n",
    "plt.legend()"
   ]
  },
  {
   "cell_type": "code",
   "execution_count": 28,
   "metadata": {
    "collapsed": false
   },
   "outputs": [
    {
     "data": {
      "text/plain": [
       "<matplotlib.legend.Legend at 0x1c616fc8d0>"
      ]
     },
     "execution_count": 28,
     "metadata": {},
     "output_type": "execute_result"
    },
    {
     "data": {
      "image/png": "[encoded data removed]",
      "text/plain": [
       "<matplotlib.figure.Figure at 0x1c615d5c50>"
      ]
     },
     "metadata": {},
     "output_type": "display_data"
    }
   ],
   "source": [
    "# plotting the training and validation accuracy\n",
    "acc = history.history['acc']\n",
    "val_acc = history.history['val_acc']\n",
    "\n",
    "plt.plot(epochs, acc, 'bo', label='Training acc')\n",
    "plt.plot(epochs, val_acc, 'b', label='Validation acc')\n",
    "plt.axvline(9.0, color='k', linestyle='--')\n",
    "# plt.axvline(np.argmax(val_acc), color='k', linestyle='--')\n",
    "\n",
    "plt.title('Training and validation accuracy')\n",
    "plt.xlabel('Epochs')\n",
    "plt.ylabel('Loss')\n",
    "plt.legend()"
   ]
  },
  {
   "cell_type": "code",
   "execution_count": 29,
   "metadata": {
    "collapsed": false,
    "scrolled": true
   },
   "outputs": [
    {
     "name": "stdout",
     "output_type": "stream",
     "text": [
      "Train on 7982 samples, validate on 1000 samples\n",
      "Epoch 1/9\n",
      "7982/7982 [==============================] - 1s 79us/step - loss: 2.6183 - acc: 0.5352 - val_loss: 1.7253 - val_acc: 0.6510\n",
      "Epoch 2/9\n",
      "7982/7982 [==============================] - 1s 70us/step - loss: 1.4119 - acc: 0.7040 - val_loss: 1.2858 - val_acc: 0.7100\n",
      "Epoch 3/9\n",
      "7982/7982 [==============================] - 1s 74us/step - loss: 1.0429 - acc: 0.7710 - val_loss: 1.1299 - val_acc: 0.7500\n",
      "Epoch 4/9\n",
      "7982/7982 [==============================] - 1s 73us/step - loss: 0.8248 - acc: 0.8230 - val_loss: 1.0383 - val_acc: 0.7640\n",
      "Epoch 5/9\n",
      "7982/7982 [==============================] - 1s 71us/step - loss: 0.6634 - acc: 0.8614 - val_loss: 0.9655 - val_acc: 0.7930\n",
      "Epoch 6/9\n",
      "7982/7982 [==============================] - 1s 71us/step - loss: 0.5318 - acc: 0.8886 - val_loss: 0.9048 - val_acc: 0.8090\n",
      "Epoch 7/9\n",
      "7982/7982 [==============================] - 1s 72us/step - loss: 0.4303 - acc: 0.9097 - val_loss: 0.8908 - val_acc: 0.8120\n",
      "Epoch 8/9\n",
      "7982/7982 [==============================] - 1s 71us/step - loss: 0.3513 - acc: 0.9270 - val_loss: 0.8670 - val_acc: 0.8130\n",
      "Epoch 9/9\n",
      "7982/7982 [==============================] - 1s 70us/step - loss: 0.2923 - acc: 0.9359 - val_loss: 0.9020 - val_acc: 0.8120\n",
      "2246/2246 [==============================] - 0s 113us/step\n"
     ]
    }
   ],
   "source": [
    "# network begins to overfit after 9 epochs\n",
    "# now, train a new network from scratch for nine epochs and then evaluate it on the test set\n",
    "model = models.Sequential()\n",
    "model.add(layers.Dense(64, activation='relu', input_shape=(10000,)))\n",
    "model.add(layers.Dense(64, activation='relu'))\n",
    "model.add(layers.Dense(46, activation='softmax'))\n",
    "\n",
    "model.compile(optimizer='rmsprop',\n",
    "              loss='categorical_crossentropy',\n",
    "              metrics=['accuracy'])\n",
    "\n",
    "model.fit(partial_x_train,\n",
    "          partial_y_train,\n",
    "          epochs=9,\n",
    "          batch_size=512,\n",
    "          validation_data=(x_val, y_val))\n",
    "results = model.evaluate(x_test, one_hot_test_labels)"
   ]
  },
  {
   "cell_type": "code",
   "execution_count": 30,
   "metadata": {
    "collapsed": false
   },
   "outputs": [
    {
     "data": {
      "text/plain": [
       "[0.9883354833268313, 0.7831700801955518]"
      ]
     },
     "execution_count": 30,
     "metadata": {},
     "output_type": "execute_result"
    }
   ],
   "source": [
    "# this approach reaches an accuracy of ~80%\n",
    "results"
   ]
  },
  {
   "cell_type": "code",
   "execution_count": 31,
   "metadata": {
    "collapsed": false
   },
   "outputs": [
    {
     "data": {
      "text/plain": [
       "0.182546749777382"
      ]
     },
     "execution_count": 31,
     "metadata": {},
     "output_type": "execute_result"
    }
   ],
   "source": [
    "# with a balanced binary classification problem, the accuracy reached by a purely classifier would be 50%\n",
    "# in this case, it's close to 18%, so the results seem pretty good, at least when compare to a random baseline\n",
    "import copy\n",
    "test_labels_copy = copy.copy(test_labels)\n",
    "np.random.shuffle(test_labels_copy)\n",
    "hits_array = np.array(test_labels) == np.array(test_labels_copy)\n",
    "float(np.sum(hits_array)) / len(test_labels)"
   ]
  },
  {
   "cell_type": "code",
   "execution_count": 32,
   "metadata": {
    "collapsed": false
   },
   "outputs": [
    {
     "name": "stdout",
     "output_type": "stream",
     "text": [
      "(46,)\n"
     ]
    }
   ],
   "source": [
    "# generating predictions on new data\n",
    "# verify predict method of the model returns a probability distribution over all 46 topics\n",
    "predictions = model.predict(x_test)\n",
    "# each entry in predictions is a vector of length 46:\n",
    "print predictions[0].shape"
   ]
  },
  {
   "cell_type": "code",
   "execution_count": 33,
   "metadata": {
    "collapsed": false
   },
   "outputs": [
    {
     "data": {
      "text/plain": [
       "0.9999998"
      ]
     },
     "execution_count": 33,
     "metadata": {},
     "output_type": "execute_result"
    }
   ],
   "source": [
    "# coefficients in the vector sum to 1:\n",
    "np.sum(predictions[0])"
   ]
  },
  {
   "cell_type": "code",
   "execution_count": 34,
   "metadata": {
    "collapsed": false
   },
   "outputs": [
    {
     "data": {
      "text/plain": [
       "3"
      ]
     },
     "execution_count": 34,
     "metadata": {},
     "output_type": "execute_result"
    }
   ],
   "source": [
    "# largest entry is the predicted class (the class with the highest probability)\n",
    "np.argmax(predictions[0])"
   ]
  },
  {
   "cell_type": "code",
   "execution_count": 35,
   "metadata": {
    "collapsed": true
   },
   "outputs": [],
   "source": [
    "# different way to handle the labels and the loss\n",
    "# encoding method: encode labels as an integer tensor\n",
    "y_train = np.array(train_labels)\n",
    "x_train = np.array(test_labels)"
   ]
  },
  {
   "cell_type": "code",
   "execution_count": 36,
   "metadata": {
    "collapsed": true
   },
   "outputs": [],
   "source": [
    "# this approach changes the choice of the loss function\n",
    "# before: categorical_crossentropy (expects labels to follow categorical encoding)\n",
    "# now: with integer labels, use sparse_categorical_crossentropy\n",
    "# this new loss function is still mathematically the same as categorical_crossentropy (different interface)\n",
    "model.compile(optimizer='rmsprop',\n",
    "              loss='sparse_categorical_crossentropy',\n",
    "              metrics=['acc'])"
   ]
  },
  {
   "cell_type": "code",
   "execution_count": 37,
   "metadata": {
    "collapsed": true
   },
   "outputs": [],
   "source": [
    "# importance of having sufficiently large intermediate layers\n",
    "# because the final outputs are 46-dimensional, you should avoid intermediate layers with many fewer than 46 hidden units\n",
    "# try intermediate layers with 4-dimensionals to see what happens"
   ]
  },
  {
   "cell_type": "code",
   "execution_count": 38,
   "metadata": {
    "collapsed": false,
    "scrolled": true
   },
   "outputs": [
    {
     "name": "stdout",
     "output_type": "stream",
     "text": [
      "Train on 7982 samples, validate on 1000 samples\n",
      "Epoch 1/20\n",
      "7982/7982 [==============================] - 1s 82us/step - loss: 3.1632 - acc: 0.1803 - val_loss: 2.4899 - val_acc: 0.3940\n",
      "Epoch 2/20\n",
      "7982/7982 [==============================] - 1s 79us/step - loss: 1.9259 - acc: 0.5234 - val_loss: 1.6015 - val_acc: 0.6550\n",
      "Epoch 3/20\n",
      "7982/7982 [==============================] - 1s 76us/step - loss: 1.3332 - acc: 0.6947 - val_loss: 1.3909 - val_acc: 0.6770\n",
      "Epoch 4/20\n",
      "7982/7982 [==============================] - 1s 79us/step - loss: 1.1266 - acc: 0.7171 - val_loss: 1.3436 - val_acc: 0.6760\n",
      "Epoch 5/20\n",
      "7982/7982 [==============================] - 1s 80us/step - loss: 1.0021 - acc: 0.7296 - val_loss: 1.3096 - val_acc: 0.6860\n",
      "Epoch 6/20\n",
      "7982/7982 [==============================] - 1s 66us/step - loss: 0.9032 - acc: 0.7509 - val_loss: 1.3416 - val_acc: 0.6990\n",
      "Epoch 7/20\n",
      "7982/7982 [==============================] - 1s 73us/step - loss: 0.8196 - acc: 0.7899 - val_loss: 1.3384 - val_acc: 0.7140\n",
      "Epoch 8/20\n",
      "7982/7982 [==============================] - 1s 68us/step - loss: 0.7513 - acc: 0.8071 - val_loss: 1.3579 - val_acc: 0.7160\n",
      "Epoch 9/20\n",
      "7982/7982 [==============================] - 1s 68us/step - loss: 0.6879 - acc: 0.8215 - val_loss: 1.3819 - val_acc: 0.7130\n",
      "Epoch 10/20\n",
      "7982/7982 [==============================] - 1s 70us/step - loss: 0.6359 - acc: 0.8355 - val_loss: 1.4326 - val_acc: 0.7140\n",
      "Epoch 11/20\n",
      "7982/7982 [==============================] - 1s 69us/step - loss: 0.5897 - acc: 0.8444 - val_loss: 1.4475 - val_acc: 0.7170\n",
      "Epoch 12/20\n",
      "7982/7982 [==============================] - 1s 72us/step - loss: 0.5505 - acc: 0.8579 - val_loss: 1.4892 - val_acc: 0.7220\n",
      "Epoch 13/20\n",
      "7982/7982 [==============================] - 1s 68us/step - loss: 0.5160 - acc: 0.8663 - val_loss: 1.5690 - val_acc: 0.7070\n",
      "Epoch 14/20\n",
      "7982/7982 [==============================] - 1s 71us/step - loss: 0.4840 - acc: 0.8708 - val_loss: 1.5740 - val_acc: 0.7200\n",
      "Epoch 15/20\n",
      "7982/7982 [==============================] - 1s 67us/step - loss: 0.4563 - acc: 0.8752 - val_loss: 1.6115 - val_acc: 0.7180\n",
      "Epoch 16/20\n",
      "7982/7982 [==============================] - 1s 66us/step - loss: 0.4337 - acc: 0.8802 - val_loss: 1.6565 - val_acc: 0.7160\n",
      "Epoch 17/20\n",
      "7982/7982 [==============================] - 1s 68us/step - loss: 0.4139 - acc: 0.8859 - val_loss: 1.6503 - val_acc: 0.7230\n",
      "Epoch 18/20\n",
      "7982/7982 [==============================] - 1s 72us/step - loss: 0.3921 - acc: 0.8901 - val_loss: 1.7078 - val_acc: 0.7150\n",
      "Epoch 19/20\n",
      "7982/7982 [==============================] - 1s 68us/step - loss: 0.3778 - acc: 0.8964 - val_loss: 1.7212 - val_acc: 0.7130\n",
      "Epoch 20/20\n",
      "7982/7982 [==============================] - 1s 71us/step - loss: 0.3625 - acc: 0.8994 - val_loss: 1.8383 - val_acc: 0.7050\n"
     ]
    },
    {
     "data": {
      "text/plain": [
       "<keras.callbacks.History at 0x1c62bbc410>"
      ]
     },
     "execution_count": 38,
     "metadata": {},
     "output_type": "execute_result"
    }
   ],
   "source": [
    "# a model with an information bottleneck\n",
    "model = models.Sequential()\n",
    "model.add(layers.Dense(64, activation='relu', input_shape=(10000,)))\n",
    "model.add(layers.Dense(4, activation='relu'))\n",
    "model.add(layers.Dense(46, activation='softmax'))\n",
    "\n",
    "model.compile(optimizer='rmsprop',\n",
    "              loss='categorical_crossentropy',\n",
    "              metrics=['accuracy'])\n",
    "\n",
    "model.fit(partial_x_train,\n",
    "          partial_y_train,\n",
    "          epochs=20,\n",
    "          batch_size=128,\n",
    "          validation_data=(x_val, y_val))"
   ]
  },
  {
   "cell_type": "code",
   "execution_count": 39,
   "metadata": {
    "collapsed": true
   },
   "outputs": [],
   "source": [
    "# the network now peaks at ~71% validation accuracy (8% absolute drop)\n",
    "# this drop is mostly due to the fact that you're trying to compress a lot of information (enough information to recover the separation hyperplanes of 46 classes) into an intermediate space that is too low-dimensional\n",
    "# the network is able to cram most of the necessary information into these 8-dimensional representations, but not all of it"
   ]
  },
  {
   "cell_type": "code",
   "execution_count": 40,
   "metadata": {
    "collapsed": true
   },
   "outputs": [],
   "source": [
    "# future experiments\n",
    "# try using larger or smaller layers: 32 units / 128 units\n",
    "# try single hidden layers or three hidden layers"
   ]
  },
  {
   "cell_type": "code",
   "execution_count": 41,
   "metadata": {
    "collapsed": true
   },
   "outputs": [],
   "source": [
    "# take aways from this example:\n",
    "# If you’re trying to classify data points among N classes, your network should end with a Dense layer of size N.\n",
    "# In a single-label, multiclass classification problem, your network should end with a softmax activation so that it will output a probability distribution over the N output classes.\n",
    "# Categorical crossentropy is almost always the loss function you should use for such problems. It minimizes the distance between the probability distributions output by the network and the true distribution of the targets.\n",
    "# There are two ways to handle labels in multiclass classification:\n",
    "# 1. Encoding the labels via categorical encoding (also known as one-hot encoding) and using categorical_crossentropy as a loss function\n",
    "# 2. Encoding the labels as integers and using the sparse_categorical_crossentropy loss function\n",
    "# If you need to classify data into a large number of categories, you should avoid creating information bottlenecks in your network due to intermediate layers that are too small."
   ]
  },
  {
   "cell_type": "code",
   "execution_count": null,
   "metadata": {
    "collapsed": true
   },
   "outputs": [],
   "source": []
  }
 ],
 "metadata": {
  "kernelspec": {
   "display_name": "Python [Root]",
   "language": "python",
   "name": "Python [Root]"
  },
  "language_info": {
   "codemirror_mode": {
    "name": "ipython",
    "version": 2
   },
   "file_extension": ".py",
   "mimetype": "text/x-python",
   "name": "python",
   "nbconvert_exporter": "python",
   "pygments_lexer": "ipython2",
   "version": "2.7.13"
  }
 },
 "nbformat": 4,
 "nbformat_minor": 0
}
