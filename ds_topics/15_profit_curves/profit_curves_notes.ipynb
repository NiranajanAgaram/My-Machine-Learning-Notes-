{
 "cells": [
  {
   "cell_type": "markdown",
   "metadata": {},
   "source": [
    "Profit Curves\n",
    "\n",
    "1) **Profit Calculation** - For establishing cost associated with misclassification\n",
    "* However, different errors have different costs\n",
    "* Correct classification can have different benefits\n",
    "* **Expected rates** - matrix of probabilites\n",
    "\n",
    "| True$\\rightarrow$<br/>$\\downarrow$Predicted |         Positive (p)         |         Negative (n)         |\n",
    "|--------------------------------------------:|:----------------------------:|:----------------------------:|\n",
    "| Predicted Positive (Y)                      | True Positive<br/>$P(Y \\cap p)$   | False Positive<br/> $P(Y\\cap n)$ |\n",
    "| Predicted Negative (N)                      | False Negative<br/> $P(N\\cap p)$ | True Negative<br/> $P(N\\cap n)$  |\n",
    "\n",
    "* **Cost Benefit Matrix** - converted probabilites to cost and benefits\n",
    "\n",
    "| True$\\rightarrow$<br/>$\\downarrow$Predicted |         Positive (p)         |         Negative (n)         |\n",
    "|--------------------------------------------:|:----------------------------:|:----------------------------:|\n",
    "| Predicted Positive (Y)                      | True Positive<br/>$B(Y\\cap p)$   | False Positive<br/> $C(Y\\cap n)$ |\n",
    "| Predicted Negative (N)                      | False Negative<br/> $C(N\\cap p)$ | True Negative<br/> $B(N\\cap n)$  |\n",
    "* Profit Calculation Equation - combines information from the **Confusion Matrix** and the **Cost-Benefit matrix** to yield the **Expected Profit**\n",
    "    * $\\begin{align} E[Profit] \n",
    "         \\text{ = } & P(Y\\cap p) B(Y\\cap p) + P(Y\\cap n) C(Y\\cap n) + P(N\\cap p) C(N\\cap p) + P(N\\cap n) B(N\\cap n) \\\\\n",
    "         \\text{ = } & P(Y|p) P(p) B(Y\\cap p) + P(Y|n) P(n) C(Y\\cap n) + P(N|p) P(p) C(N\\cap p) + P(N|n) P(n) B(N\\cap n) \\\\\n",
    "         \\text{ = } & P(p)[P(Y|p) B(Y\\cap p)+ P(N|p)C(N\\cap p)] + P(n)[P(Y|n)C(Y\\cap n)+ P(N|n)B(N\\cap n)]\n",
    "        \\end{align}$ \n",
    "* Building the Profit Curve - for a given model $f$, each threshold value $T$ gives a point on the Profit Curve. Model score is the threshold probability classifying + vs -:\n",
    "![profit_curve](profit_curve.png)\n",
    "    1. Allow $T$ to be the maximum score\n",
    "    2. $TP=0, FP=0$\n",
    "    3. Calculate $E[Profit]$\n",
    "    4. For each observation, $i$:\n",
    "        * If $\\hat{\\pi}_i > T \\rightarrow$ increment TP\n",
    "        * else $\\rightarrow$ increment FP\n",
    "    5. Add point (% Test instances predicted Positive, $E[Profit]$) to the Profit Graph\n",
    "    6. Increment $T$ from max-score to min-score, repeating steps 1-4\n",
    "* Profit Curve Example:\n",
    "    * Given cost-benefit matrix, y_test and y_pred for multiple models, compute the $E[Profit]$\n",
    "* **Cost-Benefit matrix**:\n",
    "\n",
    "| True$\\rightarrow$<br/>$\\downarrow$Predicted | Positive (p) | Negative (n) |\n",
    "|--------------------------------------------------------------------:|:------------:|:------------:|\n",
    "| Predicted Positive (Y)                                              | 6            | -3           |\n",
    "| Predicted Negative (N)                                              | 0            | 0            |\n",
    "\n",
    "* Actual results: y_tes = [0,0,1]\n",
    "* Model 1: y_pred = [1,1,1]\n",
    "\n",
    "* Confusion matrix:\n",
    "\n",
    "| True$\\rightarrow$<br/>$\\downarrow$Predicted | Positive (p) | Negative (n) |\n",
    "|--------------------------------------------:|:------------:|:------------:|\n",
    "| Predicted Positive (Y)                      | 1            | 2            |\n",
    "| Predicted Negative (N)                      | 0            | 0            |\n",
    "* Expected rates:\n",
    "\n",
    "| True$\\rightarrow$<br/>$\\downarrow$Predicted | Positive (p) | Negative (n) |\n",
    "|--------------------------------------------:|:------------:|:------------:|\n",
    "| Predicted Positive (Y)                      | 1.0          | 1.0          |\n",
    "| Predicted Negative (N)                      | 0            | 0            |\n",
    "* Expected cost-benefit matrix:\n",
    "\n",
    "| True$\\rightarrow$<br/>$\\downarrow$Predicted | Positive (p) | Negative (n) |\n",
    "|--------------------------------------------:|:------------:|:------------:|\n",
    "| Predicted Positive (Y)                      | 6.0          | -3.0         |\n",
    "| Predicted Negative (N)                      | 0            | 0            |\n",
    "\n",
    "* $E[Profit] = 6.0 * \\frac{1}{1+0} + -3 * \\frac{2}{2+0} + 0 * \\frac{0}{1+0} + 0 * \\frac{0}{2+0} = 6.0 - 3.0 = 3$"
   ]
  },
  {
   "cell_type": "code",
   "execution_count": null,
   "metadata": {
    "collapsed": true
   },
   "outputs": [],
   "source": []
  }
 ],
 "metadata": {
  "anaconda-cloud": {},
  "kernelspec": {
   "display_name": "Python [Root]",
   "language": "python",
   "name": "Python [Root]"
  },
  "language_info": {
   "codemirror_mode": {
    "name": "ipython",
    "version": 2
   },
   "file_extension": ".py",
   "mimetype": "text/x-python",
   "name": "python",
   "nbconvert_exporter": "python",
   "pygments_lexer": "ipython2",
   "version": "2.7.13"
  }
 },
 "nbformat": 4,
 "nbformat_minor": 0
}
