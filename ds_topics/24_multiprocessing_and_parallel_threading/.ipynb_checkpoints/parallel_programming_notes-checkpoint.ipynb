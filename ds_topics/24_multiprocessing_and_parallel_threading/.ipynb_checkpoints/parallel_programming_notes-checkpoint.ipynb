{
 "cells": [
  {
   "cell_type": "markdown",
   "metadata": {},
   "source": [
    "Parallel Programming\n",
    "\n",
    "* Objectives:\n",
    "    * Describe basic components of a computer\n",
    "    * Describe basic components of an operating system (OS)\n",
    "    * List components of a process\n",
    "    * State difference between a task and a process\n",
    "    * List issues involved in parallelizing computation\n",
    "    * When to use process vs threads"
   ]
  },
  {
   "cell_type": "markdown",
   "metadata": {},
   "source": [
    "1) Operating System Basics and Processes\n",
    "* Operating System Basics:\n",
    "    * An operating system is a program which manages a computer's resources:\n",
    "        * Synchronization to coordinate work\n",
    "        * Mutual exclusion to protect shared resources\n",
    "        * Scheduling of work\n",
    "            * Usually \"fair\"\n",
    "            * Can change priority with `nice`\n",
    "    * Work runs inside **processes**:\n",
    "        * Runs example program `text.txt`:\n",
    "            * Only one copy is in memory on the entire computer\n",
    "            * Read-only\n",
    "            * From OS, programs, and libraries\n",
    "        * Contains:\n",
    "            * `data`: initialized global and static variables\n",
    "            * `bss`: uninitialized global and static variables\n",
    "            * One copy per process\n",
    "* **States of a process** - processes can be in one of the follow states:\n",
    "    * Ready/executing\n",
    "    * Blocked\n",
    "    * Delayed\n",
    "    * Suspended\n",
    "* **Lifecycle of a process** - the process life cycle is:\n",
    "    * Fork\n",
    "    * Exec\n",
    "    * Exit\n",
    "    * Reaped by parent\n",
    "* **Components of a process** - a process has the following main components:\n",
    "    * OS control information:\n",
    "        * PID and PPID\n",
    "        * File descriptor table\n",
    "        * Mapping of standard input, output, and error\n",
    "        * Error status\n",
    "        * Signal handlers\n",
    "    * Thread of execution\n",
    "    * **Stack** - local storage for thread\n",
    "    * **Heap** - general memory for process to allocate dynamically\n",
    "    * A process should be relatively insulated from other processes"
   ]
  },
  {
   "cell_type": "markdown",
   "metadata": {},
   "source": [
    "2) Threads and Parallelization\n",
    "* Process vs. Thread\n",
    "    * A **thread** is a lighter-weight concept:\n",
    "        * One or more run inside of a **process**\n",
    "        * Each thread has its own **stack**\n",
    "        * All threads uses the same **heap/global** memory\n",
    "            * Easy to communicate\n",
    "            * Easy to cause **race conditions** if threads do **not** coordinate access to shared memory\n",
    "                * A **race condition or race hazard** is the behavior of an electronics, software, or other system where the output is dependent on the sequence or timing of other uncontrollable events. It becomes a bug when events do not happen in the order the programmer intended\n",
    "* **Parallelization** - use parallelization to speed up big jobs when:\n",
    "    * **Embarassingly Parallel** - is one where little or no effort is needed to separate the problem into a number of parallel tasks\n",
    "        * can break work up into independent chunks\n",
    "    * Operations can block or fail\n",
    "    * Application decomposes into different types of work or stages\n",
    "    * Have more data than fits in a single computer\n",
    "* Tools for parallelization:\n",
    "    * OS and computer language provide support for **parallel programming**:\n",
    "        * **Open Multi-Processing (OpenMP)** - works within one node (multi-core) via shared memory\n",
    "        * **Message Passing Interface (MPI)** - works between nodes e.g. over a network\n",
    "    * Python provides:\n",
    "        * **Processes** - use `multiprocessing` module\n",
    "        * **Threads** - use `threading` module\n",
    "* Difficulties with Python Parallelization:\n",
    "    * Python has **Global Interpreter Lock (GIL)**\n",
    "    * CPython only lets one thread in a process at a time run\n",
    "    * To avoid compromising shared/global data structures\n",
    "    * Makes parallelization difficult\n",
    "    * To get parallelization, **must run multiple Python jobs** as separate processes"
   ]
  },
  {
   "cell_type": "markdown",
   "metadata": {},
   "source": [
    "3) When To Use Multi-Processing vs. Threading\n",
    "* Use a **process** for **longer** running jobs:\n",
    "    * Length of the job must offset the cost of launching process\n",
    "    * (+) Circumvent **GIL**\n",
    "    * (-) Need extra fault tolerance\n",
    "    * Common on clusters using Condor, PBS, etc.\n",
    "    * (+) Robust to errors\n",
    "* Use a **thread** for **parallelization** when:\n",
    "    * Quick creation/destruction vs. processes\n",
    "    * Easy communication via shared memory"
   ]
  },
  {
   "cell_type": "markdown",
   "metadata": {},
   "source": [
    "4) Parallel Programming Intuition\n",
    "* Beward of trade-offs:\n",
    "    * Processes vs. threads: robustness vs speed\n",
    "    * Cost of launching a process/thread vs. length of work\n",
    "* Other issues:\n",
    "    * Fork, then load data (not vice-versa)\n",
    "    * Parallel programming is hard to debug"
   ]
  },
  {
   "cell_type": "code",
   "execution_count": null,
   "metadata": {
    "collapsed": true
   },
   "outputs": [],
   "source": []
  }
 ],
 "metadata": {
  "kernelspec": {
   "display_name": "Python [Root]",
   "language": "python",
   "name": "Python [Root]"
  },
  "language_info": {
   "codemirror_mode": {
    "name": "ipython",
    "version": 2
   },
   "file_extension": ".py",
   "mimetype": "text/x-python",
   "name": "python",
   "nbconvert_exporter": "python",
   "pygments_lexer": "ipython2",
   "version": "2.7.13"
  }
 },
 "nbformat": 4,
 "nbformat_minor": 0
}
